{
  "cells": [
    {
      "cell_type": "code",
      "execution_count": 42,
      "metadata": {
        "colab": {
          "base_uri": "https://localhost:8080/",
          "height": 35
        },
        "id": "NuA4yBAQ7dgT",
        "outputId": "ab0dda1f-87d8-46a1-c935-26d7d200716f"
      },
      "outputs": [
        {
          "output_type": "execute_result",
          "data": {
            "application/vnd.google.colaboratory.intrinsic+json": {
              "type": "string"
            },
            "text/plain": [
              "'2.7.0'"
            ]
          },
          "metadata": {},
          "execution_count": 42
        }
      ],
      "source": [
        "import keras\n",
        "keras.__version__"
      ]
    },
    {
      "cell_type": "code",
      "execution_count": 43,
      "metadata": {
        "colab": {
          "base_uri": "https://localhost:8080/"
        },
        "id": "3y3OZDzH7dgV",
        "outputId": "c453c7ee-9ee8-4cc0-e597-0f380502aab7"
      },
      "outputs": [
        {
          "output_type": "stream",
          "name": "stdout",
          "text": [
            "Variable   Type          Data/Info\n",
            "----------------------------------\n",
            "keras      module        <module 'keras' from '/us<...>kages/keras/__init__.py'>\n",
            "model      Sequential    <keras.engine.sequential.<...>object at 0x7f8449ab44d0>\n",
            "numpy      module        <module 'numpy' from '/us<...>kages/numpy/__init__.py'>\n",
            "x          ndarray       8: 8 elems, type `int64`, 64 bytes\n",
            "y          ndarray       8: 8 elems, type `int64`, 64 bytes\n"
          ]
        }
      ],
      "source": [
        "%whos"
      ]
    },
    {
      "cell_type": "code",
      "execution_count": 30,
      "metadata": {
        "colab": {
          "base_uri": "https://localhost:8080/",
          "height": 35
        },
        "id": "hbdl3CAT7dgW",
        "outputId": "3a1383e8-3707-4610-8914-580eda6ea623"
      },
      "outputs": [
        {
          "output_type": "execute_result",
          "data": {
            "application/vnd.google.colaboratory.intrinsic+json": {
              "type": "string"
            },
            "text/plain": [
              "'2.7.0'"
            ]
          },
          "metadata": {},
          "execution_count": 30
        }
      ],
      "source": [
        "keras.__version__"
      ]
    },
    {
      "cell_type": "code",
      "execution_count": 31,
      "metadata": {
        "id": "Ai6meiDe7dgW"
      },
      "outputs": [],
      "source": [
        "import numpy"
      ]
    },
    {
      "cell_type": "code",
      "execution_count": 32,
      "metadata": {
        "colab": {
          "base_uri": "https://localhost:8080/"
        },
        "id": "DOpqfDir7dgX",
        "outputId": "f3995abd-6d38-47f7-b200-818f1f78dc4d"
      },
      "outputs": [
        {
          "output_type": "stream",
          "name": "stdout",
          "text": [
            "Variable   Type          Data/Info\n",
            "----------------------------------\n",
            "keras      module        <module 'keras' from '/us<...>kages/keras/__init__.py'>\n",
            "model      Sequential    <keras.engine.sequential.<...>object at 0x7f844e1498d0>\n",
            "numpy      module        <module 'numpy' from '/us<...>kages/numpy/__init__.py'>\n",
            "x          ndarray       7: 7 elems, type `int64`, 56 bytes\n",
            "y          ndarray       7: 7 elems, type `int64`, 56 bytes\n"
          ]
        }
      ],
      "source": [
        "%whos"
      ]
    },
    {
      "cell_type": "code",
      "execution_count": 37,
      "metadata": {
        "colab": {
          "base_uri": "https://localhost:8080/"
        },
        "id": "FG2hbQkY7dgX",
        "outputId": "61e7c32f-cb6c-4ea6-b5d3-4e93fa917006"
      },
      "outputs": [
        {
          "output_type": "stream",
          "name": "stdout",
          "text": [
            "Model: \"sequential_6\"\n",
            "_________________________________________________________________\n",
            " Layer (type)                Output Shape              Param #   \n",
            "=================================================================\n",
            " dense_12 (Dense)            (None, 3)                 6         \n",
            "                                                                 \n",
            " dense_13 (Dense)            (None, 1)                 4         \n",
            "                                                                 \n",
            "=================================================================\n",
            "Total params: 10\n",
            "Trainable params: 10\n",
            "Non-trainable params: 0\n",
            "_________________________________________________________________\n"
          ]
        }
      ],
      "source": [
        "x = numpy.array([0, 1, 2, 3, 4, 5, 6, 7])\n",
        "# y = x * 2 + 1\n",
        "y = numpy.array([1, 3, 5, 7, 9, 11, 13, 15])\n",
        "model = keras.models.Sequential()\n",
        "model.add(keras.layers.Dense(3, input_shape=(1,)))\n",
        "model.add(keras.layers.Dense(1, input_shape=(1,)))\n",
        "model.compile('SGD', 'mse')\n",
        "model.summary()"
      ]
    },
    {
      "cell_type": "code",
      "execution_count": 38,
      "metadata": {
        "colab": {
          "base_uri": "https://localhost:8080/"
        },
        "id": "jLmnmFfW7dgX",
        "outputId": "fe245e41-35d7-4a2f-bb42-a6f3ca08089c"
      },
      "outputs": [
        {
          "output_type": "stream",
          "name": "stdout",
          "text": [
            "Epoch 1/10\n",
            "1/1 [==============================] - 0s 280ms/step - loss: 11.9705\n",
            "Epoch 2/10\n",
            "1/1 [==============================] - 0s 6ms/step - loss: 1.2562\n",
            "Epoch 3/10\n",
            "1/1 [==============================] - 0s 7ms/step - loss: 0.1581\n",
            "Epoch 4/10\n",
            "1/1 [==============================] - 0s 7ms/step - loss: 0.1374\n",
            "Epoch 5/10\n",
            "1/1 [==============================] - 0s 6ms/step - loss: 0.1308\n",
            "Epoch 6/10\n",
            "1/1 [==============================] - 0s 6ms/step - loss: 0.1245\n",
            "Epoch 7/10\n",
            "1/1 [==============================] - 0s 3ms/step - loss: 0.1186\n",
            "Epoch 8/10\n",
            "1/1 [==============================] - 0s 4ms/step - loss: 0.1129\n",
            "Epoch 9/10\n",
            "1/1 [==============================] - 0s 4ms/step - loss: 0.1075\n",
            "Epoch 10/10\n",
            "1/1 [==============================] - 0s 4ms/step - loss: 0.1024\n"
          ]
        },
        {
          "output_type": "execute_result",
          "data": {
            "text/plain": [
              "<keras.callbacks.History at 0x7f8449a6a450>"
            ]
          },
          "metadata": {},
          "execution_count": 38
        }
      ],
      "source": [
        "model.fit(x[:6], y[:6], epochs=10, verbose=1)"
      ]
    },
    {
      "cell_type": "code",
      "execution_count": 41,
      "metadata": {
        "colab": {
          "base_uri": "https://localhost:8080/"
        },
        "id": "twb72FP67dgZ",
        "outputId": "1d17e0a4-edae-4108-81a6-d8c7751ec320"
      },
      "outputs": [
        {
          "output_type": "stream",
          "name": "stdout",
          "text": [
            "Targets: [13 15]\n",
            "Predictions: [13.381885 15.537683]\n"
          ]
        }
      ],
      "source": [
        "print('Targets:', y[6:])\n",
        "print('Predictions:', model.predict(x[6:]).flatten())"
      ]
    },
    {
      "cell_type": "code",
      "execution_count": null,
      "metadata": {
        "id": "aVj1ggkB7dgZ"
      },
      "outputs": [],
      "source": [
        ""
      ]
    }
  ],
  "metadata": {
    "kernelspec": {
      "display_name": "Python 3",
      "language": "python",
      "name": "python3"
    },
    "language_info": {
      "codemirror_mode": {
        "name": "ipython",
        "version": 3
      },
      "file_extension": ".py",
      "mimetype": "text/x-python",
      "name": "python",
      "nbconvert_exporter": "python",
      "pygments_lexer": "ipython3",
      "version": "3.8.8"
    },
    "colab": {
      "name": "1.1.0.keras_vanila_01.ipynb",
      "provenance": [],
      "collapsed_sections": []
    }
  },
  "nbformat": 4,
  "nbformat_minor": 0
}