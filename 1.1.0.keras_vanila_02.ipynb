{
  "cells": [
    {
      "cell_type": "code",
      "execution_count": 9,
      "metadata": {
        "id": "kSvXta_drs_a"
      },
      "outputs": [],
      "source": [
        "from sklearn.linear_model import LinearRegression\n",
        "\n",
        "#X = [[0.0], [1.0], [2.0], [3.0], [4.0], [5.0], [6.0], [7.0]]\n",
        "#Y = [[1.0], [3.0], [5.0], [7.0], [9.0], [11.0], [13.0], [15.0]]\n",
        "X = [[0.0], [1.0], [2.0], [3.0], [4.0], [5.0]]\n",
        "Y = [[1.0], [3.0], [5.0], [7.0], [9.0], [11.0]]"
      ]
    },
    {
      "cell_type": "code",
      "execution_count": 10,
      "metadata": {
        "id": "-Gr0s2unrs_b",
        "outputId": "17ec6788-b5f5-4adb-b7f7-d74988c59710",
        "colab": {
          "base_uri": "https://localhost:8080/"
        }
      },
      "outputs": [
        {
          "output_type": "stream",
          "name": "stdout",
          "text": [
            "Variable           Type                Data/Info\n",
            "------------------------------------------------\n",
            "LinearRegression   ABCMeta             <class 'sklearn.linear_mo<...>._base.LinearRegression'>\n",
            "X                  list                n=6\n",
            "Y                  list                n=6\n",
            "model              LinearRegression    LinearRegression()\n"
          ]
        }
      ],
      "source": [
        "%whos"
      ]
    },
    {
      "cell_type": "code",
      "execution_count": 11,
      "metadata": {
        "id": "4GU4ahqSrs_c",
        "outputId": "b7185b61-5040-4695-c171-bc4ec8788625",
        "colab": {
          "base_uri": "https://localhost:8080/"
        }
      },
      "outputs": [
        {
          "output_type": "execute_result",
          "data": {
            "text/plain": [
              "[[0.0], [1.0], [2.0], [3.0], [4.0], [5.0]]"
            ]
          },
          "metadata": {},
          "execution_count": 11
        }
      ],
      "source": [
        "X\n"
      ]
    },
    {
      "cell_type": "code",
      "execution_count": 12,
      "metadata": {
        "id": "jB6C59ovrs_c",
        "outputId": "38e084f7-5965-4c3b-838a-f43ee3c752a6",
        "colab": {
          "base_uri": "https://localhost:8080/"
        }
      },
      "outputs": [
        {
          "output_type": "execute_result",
          "data": {
            "text/plain": [
              "[[1.0], [3.0], [5.0], [7.0], [9.0], [11.0]]"
            ]
          },
          "metadata": {},
          "execution_count": 12
        }
      ],
      "source": [
        "Y"
      ]
    },
    {
      "cell_type": "code",
      "execution_count": 13,
      "metadata": {
        "id": "Fj2D4ETOrs_c"
      },
      "outputs": [],
      "source": [
        "# 선형회귀 모델 생성 및 학습\n",
        "model = LinearRegression()\n"
      ]
    },
    {
      "cell_type": "code",
      "execution_count": 14,
      "metadata": {
        "id": "QjsCOSG-rs_d",
        "outputId": "7d2b9429-feb8-4ef0-8d17-5c494b104d3f",
        "colab": {
          "base_uri": "https://localhost:8080/"
        }
      },
      "outputs": [
        {
          "output_type": "execute_result",
          "data": {
            "text/plain": [
              "LinearRegression()"
            ]
          },
          "metadata": {},
          "execution_count": 14
        }
      ],
      "source": [
        "model.fit(X, Y)"
      ]
    },
    {
      "cell_type": "code",
      "execution_count": 15,
      "metadata": {
        "id": "sPj3GtZ0rs_d",
        "outputId": "46012897-6137-414b-db88-fd51b2c2c637",
        "colab": {
          "base_uri": "https://localhost:8080/"
        }
      },
      "outputs": [
        {
          "output_type": "stream",
          "name": "stdout",
          "text": [
            "[[2.]]\n"
          ]
        }
      ],
      "source": [
        "print(model.coef_)      # 기울기 출력"
      ]
    },
    {
      "cell_type": "code",
      "execution_count": 16,
      "metadata": {
        "id": "bJImODSprs_d",
        "outputId": "3f7d2b68-9dc3-4c0e-879d-c818ed8a3aaf",
        "colab": {
          "base_uri": "https://localhost:8080/"
        }
      },
      "outputs": [
        {
          "output_type": "stream",
          "name": "stdout",
          "text": [
            "[1.]\n"
          ]
        }
      ],
      "source": [
        "print(model.intercept_) # 절편 출력"
      ]
    },
    {
      "cell_type": "code",
      "execution_count": 17,
      "metadata": {
        "id": "GWpVOeQFrs_d"
      },
      "outputs": [],
      "source": [
        "# x = 0, x = 1일 때 모델의 출력 결과 예측\n",
        "y_pred = model.predict([[6.0], [7.0]])"
      ]
    },
    {
      "cell_type": "code",
      "execution_count": 18,
      "metadata": {
        "id": "NeEXpfTbrs_e",
        "outputId": "05033130-74b0-43c2-b52f-9df2bbc8f521",
        "colab": {
          "base_uri": "https://localhost:8080/"
        }
      },
      "outputs": [
        {
          "output_type": "stream",
          "name": "stdout",
          "text": [
            "[[13.]\n",
            " [15.]]\n"
          ]
        }
      ],
      "source": [
        "# x = 0, x = 1일 때 예측한 y값 출력\n",
        "print(y_pred)"
      ]
    },
    {
      "cell_type": "code",
      "execution_count": null,
      "metadata": {
        "id": "zlFGp2oGrs_e"
      },
      "outputs": [],
      "source": [
        ""
      ]
    }
  ],
  "metadata": {
    "kernelspec": {
      "display_name": "Python 3",
      "language": "python",
      "name": "python3"
    },
    "language_info": {
      "codemirror_mode": {
        "name": "ipython",
        "version": 3
      },
      "file_extension": ".py",
      "mimetype": "text/x-python",
      "name": "python",
      "nbconvert_exporter": "python",
      "pygments_lexer": "ipython3",
      "version": "3.8.8"
    },
    "colab": {
      "name": "1.1.0.keras_vanila_02.ipynb",
      "provenance": [],
      "collapsed_sections": []
    }
  },
  "nbformat": 4,
  "nbformat_minor": 0
}